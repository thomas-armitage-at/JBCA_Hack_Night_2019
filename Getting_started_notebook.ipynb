{
 "cells": [
  {
   "cell_type": "markdown",
   "metadata": {},
   "source": [
    "## Getting started with the AT data"
   ]
  },
  {
   "cell_type": "markdown",
   "metadata": {},
   "source": [
    "The network data is saved as a dataframe of edges"
   ]
  },
  {
   "cell_type": "code",
   "execution_count": 1,
   "metadata": {},
   "outputs": [],
   "source": [
    "# import standard libraries\n",
    "import numpy as np\n",
    "import pandas as pd\n",
    "import matplotlib.pyplot as plt"
   ]
  },
  {
   "cell_type": "markdown",
   "metadata": {},
   "source": [
    "the two network specific libraries we want are \n",
    "networkx (https://networkx.github.io/documentation/stable/index.html) to create the data frame \n",
    "and netwulf to visualise (https://netwulf.readthedocs.io/en/latest/)"
   ]
  },
  {
   "cell_type": "code",
   "execution_count": 2,
   "metadata": {},
   "outputs": [],
   "source": [
    "import networkx as nx\n",
    "from netwulf import visualize\n",
    "import netwulf as wulf"
   ]
  },
  {
   "cell_type": "code",
   "execution_count": 3,
   "metadata": {},
   "outputs": [],
   "source": [
    "df = pd.read_csv(\"./edge_data.csv\")"
   ]
  },
  {
   "cell_type": "code",
   "execution_count": 4,
   "metadata": {},
   "outputs": [
    {
     "data": {
      "text/html": [
       "<div>\n",
       "<style scoped>\n",
       "    .dataframe tbody tr th:only-of-type {\n",
       "        vertical-align: middle;\n",
       "    }\n",
       "\n",
       "    .dataframe tbody tr th {\n",
       "        vertical-align: top;\n",
       "    }\n",
       "\n",
       "    .dataframe thead th {\n",
       "        text-align: right;\n",
       "    }\n",
       "</style>\n",
       "<table border=\"1\" class=\"dataframe\">\n",
       "  <thead>\n",
       "    <tr style=\"text-align: right;\">\n",
       "      <th></th>\n",
       "      <th>make_model_a</th>\n",
       "      <th>make_model_b</th>\n",
       "      <th>unique_users</th>\n",
       "      <th>a_unique_users</th>\n",
       "      <th>b_unique_users</th>\n",
       "      <th>P_a</th>\n",
       "      <th>P_b</th>\n",
       "      <th>frac_b_given_a</th>\n",
       "      <th>make_a</th>\n",
       "      <th>model_a</th>\n",
       "      <th>make_b</th>\n",
       "      <th>model_b</th>\n",
       "      <th>category_a</th>\n",
       "      <th>category_b</th>\n",
       "      <th>N_views_a</th>\n",
       "      <th>N_views_b</th>\n",
       "    </tr>\n",
       "  </thead>\n",
       "  <tbody>\n",
       "    <tr>\n",
       "      <th>0</th>\n",
       "      <td>AC Cobra</td>\n",
       "      <td>Land Rover Discovery</td>\n",
       "      <td>124</td>\n",
       "      <td>56408</td>\n",
       "      <td>622785</td>\n",
       "      <td>0.009668</td>\n",
       "      <td>0.106738</td>\n",
       "      <td>0.002198</td>\n",
       "      <td>AC</td>\n",
       "      <td>Cobra</td>\n",
       "      <td>Land Rover</td>\n",
       "      <td>Discovery</td>\n",
       "      <td>CARS</td>\n",
       "      <td>CARS</td>\n",
       "      <td>324</td>\n",
       "      <td>1072</td>\n",
       "    </tr>\n",
       "    <tr>\n",
       "      <th>1</th>\n",
       "      <td>Abarth 124 Spider</td>\n",
       "      <td>DS Automobiles DS 7 Crossback</td>\n",
       "      <td>46</td>\n",
       "      <td>71157</td>\n",
       "      <td>99524</td>\n",
       "      <td>0.012195</td>\n",
       "      <td>0.017057</td>\n",
       "      <td>0.000646</td>\n",
       "      <td>Abarth</td>\n",
       "      <td>124 Spider</td>\n",
       "      <td>DS Automobiles</td>\n",
       "      <td>DS 7 Crossback</td>\n",
       "      <td>CARS</td>\n",
       "      <td>CARS</td>\n",
       "      <td>292</td>\n",
       "      <td>441</td>\n",
       "    </tr>\n",
       "    <tr>\n",
       "      <th>2</th>\n",
       "      <td>Abarth 124 Spider</td>\n",
       "      <td>Lamborghini Aventador</td>\n",
       "      <td>125</td>\n",
       "      <td>71157</td>\n",
       "      <td>502425</td>\n",
       "      <td>0.012195</td>\n",
       "      <td>0.086110</td>\n",
       "      <td>0.001757</td>\n",
       "      <td>Abarth</td>\n",
       "      <td>124 Spider</td>\n",
       "      <td>Lamborghini</td>\n",
       "      <td>Aventador</td>\n",
       "      <td>CARS</td>\n",
       "      <td>CARS</td>\n",
       "      <td>623</td>\n",
       "      <td>951</td>\n",
       "    </tr>\n",
       "    <tr>\n",
       "      <th>3</th>\n",
       "      <td>Abarth 500</td>\n",
       "      <td>Lamborghini Gallardo</td>\n",
       "      <td>307</td>\n",
       "      <td>201459</td>\n",
       "      <td>333119</td>\n",
       "      <td>0.034528</td>\n",
       "      <td>0.057093</td>\n",
       "      <td>0.001524</td>\n",
       "      <td>Abarth</td>\n",
       "      <td>500</td>\n",
       "      <td>Lamborghini</td>\n",
       "      <td>Gallardo</td>\n",
       "      <td>CARS</td>\n",
       "      <td>CARS</td>\n",
       "      <td>1707</td>\n",
       "      <td>1749</td>\n",
       "    </tr>\n",
       "    <tr>\n",
       "      <th>4</th>\n",
       "      <td>Abarth 500</td>\n",
       "      <td>Mazda Mazda5</td>\n",
       "      <td>39</td>\n",
       "      <td>201459</td>\n",
       "      <td>128652</td>\n",
       "      <td>0.034528</td>\n",
       "      <td>0.022049</td>\n",
       "      <td>0.000194</td>\n",
       "      <td>Abarth</td>\n",
       "      <td>500</td>\n",
       "      <td>Mazda</td>\n",
       "      <td>Mazda5</td>\n",
       "      <td>CARS</td>\n",
       "      <td>CARS</td>\n",
       "      <td>324</td>\n",
       "      <td>198</td>\n",
       "    </tr>\n",
       "  </tbody>\n",
       "</table>\n",
       "</div>"
      ],
      "text/plain": [
       "        make_model_a                   make_model_b  unique_users  \\\n",
       "0           AC Cobra           Land Rover Discovery           124   \n",
       "1  Abarth 124 Spider  DS Automobiles DS 7 Crossback            46   \n",
       "2  Abarth 124 Spider          Lamborghini Aventador           125   \n",
       "3         Abarth 500           Lamborghini Gallardo           307   \n",
       "4         Abarth 500                   Mazda Mazda5            39   \n",
       "\n",
       "   a_unique_users  b_unique_users       P_a       P_b  frac_b_given_a  make_a  \\\n",
       "0           56408          622785  0.009668  0.106738        0.002198      AC   \n",
       "1           71157           99524  0.012195  0.017057        0.000646  Abarth   \n",
       "2           71157          502425  0.012195  0.086110        0.001757  Abarth   \n",
       "3          201459          333119  0.034528  0.057093        0.001524  Abarth   \n",
       "4          201459          128652  0.034528  0.022049        0.000194  Abarth   \n",
       "\n",
       "      model_a          make_b         model_b category_a category_b  \\\n",
       "0       Cobra      Land Rover       Discovery       CARS       CARS   \n",
       "1  124 Spider  DS Automobiles  DS 7 Crossback       CARS       CARS   \n",
       "2  124 Spider     Lamborghini       Aventador       CARS       CARS   \n",
       "3         500     Lamborghini        Gallardo       CARS       CARS   \n",
       "4         500           Mazda          Mazda5       CARS       CARS   \n",
       "\n",
       "   N_views_a  N_views_b  \n",
       "0        324       1072  \n",
       "1        292        441  \n",
       "2        623        951  \n",
       "3       1707       1749  \n",
       "4        324        198  "
      ]
     },
     "execution_count": 4,
     "metadata": {},
     "output_type": "execute_result"
    }
   ],
   "source": [
    "df.head(5)"
   ]
  },
  {
   "cell_type": "markdown",
   "metadata": {},
   "source": [
    "The data is organised as a set of edges. \n",
    "Each row contains the number of `unique_users` who looked at both `make_model_a` and `make_model_b` within the last 28 days. Only edges with more than 30 `unique_users` are listed.\n",
    "\n",
    "`a_unique_users` is the total number of users who looked at `make_model_a`, and `P_a` is the probability a user viewed `make_model_a` (N_users who looked at `make_model_a` / Total number of users)\n",
    "\n",
    "`Frac_b_given_a` is the probability a user would look at `make_model_b` given that they also look at `make_model_a`.\n",
    "\n",
    "`make`, `model` are just split values of `make_model` in case you want to aggregate.\n",
    "\n",
    "`N_views_a` is the number of Full Page Advert (FPA) views the `unique_users` performed on `make_model_a`.\n",
    "\n",
    "`category_a` is the type of vehicle a. The options are:"
   ]
  },
  {
   "cell_type": "code",
   "execution_count": 5,
   "metadata": {},
   "outputs": [
    {
     "data": {
      "text/plain": [
       "array(['CARS', 'BIKE', 'MOTORHOME', 'COMM', 'TRUCKS', 'CARA'],\n",
       "      dtype=object)"
      ]
     },
     "execution_count": 5,
     "metadata": {},
     "output_type": "execute_result"
    }
   ],
   "source": [
    "df['category_a'].unique()"
   ]
  },
  {
   "cell_type": "code",
   "execution_count": 6,
   "metadata": {},
   "outputs": [
    {
     "data": {
      "text/html": [
       "<div>\n",
       "<style scoped>\n",
       "    .dataframe tbody tr th:only-of-type {\n",
       "        vertical-align: middle;\n",
       "    }\n",
       "\n",
       "    .dataframe tbody tr th {\n",
       "        vertical-align: top;\n",
       "    }\n",
       "\n",
       "    .dataframe thead th {\n",
       "        text-align: right;\n",
       "    }\n",
       "</style>\n",
       "<table border=\"1\" class=\"dataframe\">\n",
       "  <thead>\n",
       "    <tr style=\"text-align: right;\">\n",
       "      <th></th>\n",
       "      <th>make_model_a</th>\n",
       "    </tr>\n",
       "    <tr>\n",
       "      <th>category_a</th>\n",
       "      <th></th>\n",
       "    </tr>\n",
       "  </thead>\n",
       "  <tbody>\n",
       "    <tr>\n",
       "      <th>BIKE</th>\n",
       "      <td>918</td>\n",
       "    </tr>\n",
       "    <tr>\n",
       "      <th>CARA</th>\n",
       "      <td>11</td>\n",
       "    </tr>\n",
       "    <tr>\n",
       "      <th>CARS</th>\n",
       "      <td>1278</td>\n",
       "    </tr>\n",
       "    <tr>\n",
       "      <th>COMM</th>\n",
       "      <td>140</td>\n",
       "    </tr>\n",
       "    <tr>\n",
       "      <th>MOTORHOME</th>\n",
       "      <td>183</td>\n",
       "    </tr>\n",
       "    <tr>\n",
       "      <th>TRUCKS</th>\n",
       "      <td>30</td>\n",
       "    </tr>\n",
       "  </tbody>\n",
       "</table>\n",
       "</div>"
      ],
      "text/plain": [
       "            make_model_a\n",
       "category_a              \n",
       "BIKE                 918\n",
       "CARA                  11\n",
       "CARS                1278\n",
       "COMM                 140\n",
       "MOTORHOME            183\n",
       "TRUCKS                30"
      ]
     },
     "execution_count": 6,
     "metadata": {},
     "output_type": "execute_result"
    }
   ],
   "source": [
    "unique_models = df[['make_model_a','category_a']].drop_duplicates()\n",
    "# Number of make_models in each vehicle category\n",
    "unique_models.groupby('category_a').count()"
   ]
  },
  {
   "cell_type": "code",
   "execution_count": 7,
   "metadata": {},
   "outputs": [
    {
     "name": "stdout",
     "output_type": "stream",
     "text": [
      "Total Number of rows:  589666\n",
      "Number of unique_models:  2560\n",
      "Mean pairs per model:  230.33828125\n"
     ]
    }
   ],
   "source": [
    "print('Total Number of rows: ',len(df))\n",
    "print('Number of unique_models: ',len(unique_models))\n",
    "print('Mean pairs per model: ',len(df)/len(unique_models))"
   ]
  },
  {
   "cell_type": "markdown",
   "metadata": {},
   "source": [
    "## Build a simple network "
   ]
  },
  {
   "cell_type": "code",
   "execution_count": 8,
   "metadata": {},
   "outputs": [],
   "source": [
    "# For the moment just keep CARS only\n",
    "df_car = df.loc[(df['category_a']=='CARS') & (df['category_b']=='CARS')]\n",
    "\n",
    "# We will build a network with scalar weights\n",
    "# First we want to remove self loops and duplicated AB BA pairs\n",
    "len(df_car.loc[df_car['make_model_a']==df_car['make_model_b']])\n",
    "\n",
    "core_df = df_car.loc[df_car['make_model_a']!=df_car['make_model_b']]\n",
    "core_df = core_df.loc[core_df['make_model_a']<core_df['make_model_b']]\n",
    "core_df['log10_unique_users'] = np.log10(core_df['unique_users'])"
   ]
  },
  {
   "cell_type": "markdown",
   "metadata": {},
   "source": [
    "Look at the distribution of unique users across the nodes"
   ]
  },
  {
   "cell_type": "code",
   "execution_count": 9,
   "metadata": {},
   "outputs": [
    {
     "data": {
      "image/png": "[encoded data removed]",
      "text/plain": [
       "<Figure size 576x288 with 2 Axes>"
      ]
     },
     "metadata": {
      "needs_background": "light"
     },
     "output_type": "display_data"
    }
   ],
   "source": [
    "fig, ax = plt.subplots(1,2,figsize=(8,4))\n",
    "\n",
    "ax[0].hist(core_df['unique_users'],bins=100)\n",
    "ax[1].hist(core_df['log10_unique_users'],bins=100)\n",
    "\n",
    "ax[1].axvline(np.median(core_df['log10_unique_users']),color='C1')\n",
    "ax[1].axvline(np.percentile(core_df['log10_unique_users'],99),ls='--',color='C1')\n",
    "\n",
    "ax[0].set_xlabel('Unique users')\n",
    "ax[1].set_xlabel('$\\log_{10}$ Unique users')\n",
    "\n",
    "plt.show()\n",
    "plt.close(fig)"
   ]
  },
  {
   "cell_type": "code",
   "execution_count": 10,
   "metadata": {},
   "outputs": [],
   "source": [
    "# In the interest of speed we'll\n",
    "# limit ourselves to the strongest 1% of connections\n",
    "# You could randomly sample connections, or nodes as well.\n",
    "top_1pcnt = np.percentile(core_df['log10_unique_users'],99)\n",
    "\n",
    "first_graph_df = core_df.loc[core_df['log10_unique_users']>top_1pcnt]"
   ]
  },
  {
   "cell_type": "code",
   "execution_count": 11,
   "metadata": {},
   "outputs": [],
   "source": [
    "G = nx.from_pandas_edgelist(\n",
    "    first_graph_df,\n",
    "    source = 'make_model_a',\n",
    "    target = 'make_model_b',\n",
    "    edge_attr = True,\n",
    "    create_using = nx.Graph()\n",
    "    )"
   ]
  },
  {
   "cell_type": "code",
   "execution_count": 12,
   "metadata": {},
   "outputs": [],
   "source": [
    "# Create a dict of make and make_model (node)\n",
    "mk_dict = df[['make_model_a','make_a']].drop_duplicates(keep='first').set_index('make_model_a').to_dict()['make_a']\n",
    "\n",
    "# We can link each model with a make (or group)\n",
    "nx.set_node_attributes(G,mk_dict,'group')\n",
    "# We have also included unique_users and log10_unique_users as edge attributes"
   ]
  },
  {
   "cell_type": "code",
   "execution_count": 13,
   "metadata": {},
   "outputs": [
    {
     "name": "stdout",
     "output_type": "stream",
     "text": [
      "N nodes:  234\n"
     ]
    }
   ],
   "source": [
    "list_of_nodes = list(nx.nodes(G))\n",
    "\n",
    "print('N nodes: ', len(list_of_nodes))"
   ]
  },
  {
   "cell_type": "code",
   "execution_count": 47,
   "metadata": {},
   "outputs": [
    {
     "data": {
      "image/png": "[encoded data removed]",
      "text/plain": [
       "<Figure size 288x288 with 1 Axes>"
      ]
     },
     "metadata": {
      "needs_background": "light"
     },
     "output_type": "display_data"
    }
   ],
   "source": [
    "G2 = wulf.tools.get_filtered_network(G,edge_weight_key='log10_unique_users',node_group_key=None)\n",
    "# The following command will open a new window\n",
    "# Adjust the sliders and then click \"post to python\" near the top\n",
    "stylized_network, config = wulf.visualize(G2, verbose=False)"
   ]
  },
  {
   "cell_type": "code",
   "execution_count": 48,
   "metadata": {},
   "outputs": [
    {
     "data": {
      "image/png": "[encoded data removed]",
      "text/plain": [
       "<Figure size 288x288 with 1 Axes>"
      ]
     },
     "metadata": {
      "needs_background": "light"
     },
     "output_type": "display_data"
    }
   ],
   "source": [
    "# You can redraw graphs using previous settings\n",
    "fig, ax = wulf.draw_netwulf(stylized_network)\n",
    "plt.show()"
   ]
  },
  {
   "cell_type": "markdown",
   "metadata": {},
   "source": [
    "Be aware that there are cross over vehicles, Vans that are counted as both Commericial and Cars. \n",
    "`df.loc[(df['make_model_a']==df['make_model_b']) & (df['category_a']!=df['category_b'])]`"
   ]
  },
  {
   "cell_type": "markdown",
   "metadata": {},
   "source": [
    "## Print some basic properties of the network"
   ]
  },
  {
   "cell_type": "code",
   "execution_count": 14,
   "metadata": {},
   "outputs": [
    {
     "name": "stdout",
     "output_type": "stream",
     "text": [
      "Mean degree:  19.71794871794872\n",
      "Mean Log10 degree:  0.9506649022376855\n",
      "Summary props: \n",
      " Name: \n",
      "Type: Graph\n",
      "Number of nodes: 234\n",
      "Number of edges: 2307\n",
      "Average degree:  19.7179\n"
     ]
    }
   ],
   "source": [
    "deg_dist = np.asarray(nx.classes.function.degree_histogram(G))\n",
    "\n",
    "print('Mean degree: ',np.average(np.arange(len(deg_dist)), weights=deg_dist))\n",
    "print('Mean Log10 degree: ',np.average(np.log10(np.arange(len(deg_dist)-1)+1), weights=deg_dist[1:]))\n",
    "\n",
    "print('Summary props: \\n',nx.classes.function.info(G))"
   ]
  },
  {
   "cell_type": "code",
   "execution_count": 15,
   "metadata": {},
   "outputs": [
    {
     "data": {
      "image/png": "[encoded data removed]",
      "text/plain": [
       "<Figure size 504x288 with 1 Axes>"
      ]
     },
     "metadata": {
      "needs_background": "light"
     },
     "output_type": "display_data"
    }
   ],
   "source": [
    "# Distribution of node degrees\n",
    "hist_vals = nx.degree_histogram(G)\n",
    "degree_val = np.arange(len(hist_vals))\n",
    "\n",
    "fig, ax = plt.subplots(figsize=(7,4))\n",
    "ax.bar(degree_val,hist_vals)\n",
    "\n",
    "ax.set_xlabel('Degree')\n",
    "ax.set_ylabel('$N$ Nodes')\n",
    "plt.show()\n",
    "plt.close(fig)"
   ]
  },
  {
   "cell_type": "code",
   "execution_count": 16,
   "metadata": {},
   "outputs": [
    {
     "name": "stdout",
     "output_type": "stream",
     "text": [
      "['Audi A3', 'Audi A4 Avant', 'Porsche Cayenne', 'Audi A7', 'BMW 4 Series']\n"
     ]
    }
   ],
   "source": [
    "# You can get the list of nodes from G.nodes\n",
    "print(list(G.nodes)[:5])"
   ]
  },
  {
   "cell_type": "code",
   "execution_count": 17,
   "metadata": {},
   "outputs": [
    {
     "data": {
      "text/plain": [
       "['Volkswagen Polo', 'Audi TT', 'Porsche 911', 'Ferrari 458']"
      ]
     },
     "execution_count": 17,
     "metadata": {},
     "output_type": "execute_result"
    }
   ],
   "source": [
    "# You can get simple metrics, like the shortest connection between A & B\n",
    "nx.shortest_path(G,'Volkswagen Polo','Ferrari 458')"
   ]
  },
  {
   "cell_type": "code",
   "execution_count": 18,
   "metadata": {},
   "outputs": [
    {
     "name": "stdout",
     "output_type": "stream",
     "text": [
      "0.7134221654097682\n"
     ]
    }
   ],
   "source": [
    "# Clustering coefficient of all nodes (in a dictionary)\n",
    "clust_coefficients = nx.clustering(G)\n",
    "# Average clustering coefficient\n",
    "# Or use directly the built-in method\n",
    "print(nx.average_clustering(G))"
   ]
  },
  {
   "cell_type": "markdown",
   "metadata": {},
   "source": [
    "## Centrality\n",
    "centrality, as the name implies, is a measure of how central or 'important' a node is. There are many ways to measure it. Three examples are given below, with quick explanations.\n",
    "\n",
    "Betweennes - how often the node appears on the list of shortest paths between other nodes\n",
    "\n",
    "Closeness - How close is the node to all other nodes\n",
    "\n",
    "Eigenvector - A node is important if it is connected to other important nodes"
   ]
  },
  {
   "cell_type": "code",
   "execution_count": 19,
   "metadata": {},
   "outputs": [],
   "source": [
    "# Betweenness centrality\n",
    "bet_cen = nx.betweenness_centrality(G)\n",
    "# Closeness centrality\n",
    "clo_cen = nx.closeness_centrality(G)\n",
    "# Eigenvector centrality\n",
    "eig_cen = nx.eigenvector_centrality(G)"
   ]
  },
  {
   "cell_type": "code",
   "execution_count": 23,
   "metadata": {},
   "outputs": [
    {
     "name": "stdout",
     "output_type": "stream",
     "text": [
      "Betweenes Centrality\n",
      "0.198 \t BMW 3 Series\n",
      "0.165 \t Volkswagen Golf\n",
      "0.133 \t Mercedes-Benz C Class\n",
      "0.080 \t Volkswagen Transporter\n",
      "0.067 \t Ford Fiesta\n",
      "Closeness Centrality\n",
      "0.769 \t BMW 3 Series\n",
      "0.748 \t Volkswagen Golf\n",
      "0.734 \t Mercedes-Benz C Class\n",
      "0.664 \t Mercedes-Benz E Class\n",
      "0.643 \t Ford Focus\n",
      "Eigenvector Centrality\n",
      "0.214 \t BMW 3 Series\n",
      "0.213 \t Volkswagen Golf\n",
      "0.210 \t Mercedes-Benz C Class\n",
      "0.192 \t Mercedes-Benz E Class\n",
      "0.183 \t BMW 5 Series\n"
     ]
    }
   ],
   "source": [
    "def get_top_keys(dictionary, top):\n",
    "    ret = sorted(dictionary, key=dictionary.get, reverse=True)[:top]\n",
    "    for i in range(top):\n",
    "        print(\"{0:.3f}\".format(dictionary[ret[i]]),'\\t',ret[i])\n",
    "    return ret\n",
    "\n",
    "print('Betweenes Centrality')\n",
    "top_bet_cent = get_top_keys(bet_cen,5)\n",
    "print('Closeness Centrality')\n",
    "top_clo_cent = get_top_keys(clo_cen,5)\n",
    "print('Eigenvector Centrality')\n",
    "top_eig_cent = get_top_keys(eig_cen,5)"
   ]
  },
  {
   "cell_type": "markdown",
   "metadata": {},
   "source": [
    "The three methods closely agree with each other for the top connected nodes."
   ]
  },
  {
   "cell_type": "code",
   "execution_count": 24,
   "metadata": {},
   "outputs": [
    {
     "name": "stdout",
     "output_type": "stream",
     "text": [
      "Betweeness \t Closeness \t Eigenvalue\n",
      "BMW 3 Series \t BMW 3 Series \t BMW 3 Series\n",
      "Volkswagen Golf \t Volkswagen Golf \t Volkswagen Golf\n",
      "Mercedes-Benz C Class \t Mercedes-Benz C Class \t Mercedes-Benz C Class\n",
      "Volkswagen Transporter \t Mercedes-Benz E Class \t Mercedes-Benz E Class\n",
      "Ford Fiesta \t Ford Focus \t BMW 5 Series\n"
     ]
    }
   ],
   "source": [
    "print('Betweeness','\\t','Closeness','\\t','Eigenvalue')\n",
    "for i in range(len(top_bet_cent)):\n",
    "    print(top_bet_cent[i],'\\t',top_clo_cent[i],'\\t',top_eig_cent[i])"
   ]
  },
  {
   "cell_type": "markdown",
   "metadata": {},
   "source": [
    "### Clustering\n",
    "Measured here for each node by how many times it forms \n",
    "the vertex of a triangle"
   ]
  },
  {
   "cell_type": "code",
   "execution_count": 25,
   "metadata": {},
   "outputs": [
    {
     "name": "stdout",
     "output_type": "stream",
     "text": [
      "Transitivity:  0.3928727182107034\n",
      "{'Ford Focus': 1536, 'Porsche 911': 638, 'Mazda MX-5': 10}\n"
     ]
    }
   ],
   "source": [
    "#Fraction of possible triangles\n",
    "print('Transitivity: ',nx.transitivity(G))\n",
    "\n",
    "print(nx.triangles(G,['Ford Focus','Porsche 911','Mazda MX-5']))"
   ]
  },
  {
   "cell_type": "markdown",
   "metadata": {},
   "source": [
    "### Link prediction\n",
    "How likely are two nodes to be connected together. There are *many* ways of doing this (see https://arxiv.org/pdf/1901.03425.pdf). Jaccard is one of the most basic."
   ]
  },
  {
   "cell_type": "code",
   "execution_count": 26,
   "metadata": {},
   "outputs": [
    {
     "name": "stdout",
     "output_type": "stream",
     "text": [
      "Ford Focus - Mazda MX-5 \t-->\t 0.04504504504504504\n",
      "Ford Focus - Porsche 911 \t-->\t 0.23703703703703705\n"
     ]
    }
   ],
   "source": [
    "jac_coeffs = nx.jaccard_coefficient(G,\n",
    "                                    ebunch=[\n",
    "                                        ('Ford Focus','Mazda MX-5'),\n",
    "                                        ('Ford Focus','Porsche 911')\n",
    "                                    ])\n",
    "\n",
    "# Jaccard propto likelyhood of two nodes being connected\n",
    "for u, v, p in jac_coeffs:\n",
    "    print(u,'-',v,'\\t-->\\t',p)"
   ]
  },
  {
   "cell_type": "code",
   "execution_count": 27,
   "metadata": {},
   "outputs": [
    {
     "name": "stdout",
     "output_type": "stream",
     "text": [
      "0 1.0\n",
      "1 1.0004397537379068\n",
      "2 1.0004460303300626\n",
      "3 1.0009066183136899\n",
      "4 1.0018433179723503\n",
      "5 1.0018823529411767\n"
     ]
    }
   ],
   "source": [
    "# The rich club metric (https://arxiv.org/pdf/physics/0701290.pdf)\n",
    "\n",
    "rc_coeffs = nx.rich_club_coefficient(G)\n",
    "\n",
    "# Degree - RC value\n",
    "for ii,rc in enumerate(rc_coeffs.values()):\n",
    "    print(ii,rc)\n",
    "    if ii>4: break"
   ]
  },
  {
   "cell_type": "markdown",
   "metadata": {},
   "source": [
    "## Selecting nodes with given attribute"
   ]
  },
  {
   "cell_type": "code",
   "execution_count": 14,
   "metadata": {},
   "outputs": [
    {
     "name": "stdout",
     "output_type": "stream",
     "text": [
      "['Audi A6 Saloon', 'Audi A6 Avant', 'Audi Q7', 'Audi RS3', 'Audi S3', 'Audi RS6 Avant', 'Audi S4', 'Audi A1', 'Audi A4 Avant', 'Audi S1', 'Audi SQ5', 'Audi S5', 'Audi TT RS', 'Audi Q8', 'Audi A8', 'Audi RS5', 'Audi A5 Cabriolet', 'Audi TT', 'Audi S4 Avant', 'Audi R8', 'Audi TTS', 'Audi Q3', 'Audi A7', 'Audi A6 Allroad', 'Audi RS7', 'Audi RS4 Avant', 'Audi A3', 'Audi A5', 'Audi Q5', 'Audi A4 Cabriolet', 'Audi A4']\n"
     ]
    }
   ],
   "source": [
    "# Select all nodes where the group attraibute == 'Audi'\n",
    "selected_nodes = [n for n,v in G.nodes(data=True) if v['group'] == 'Audi'] \n",
    "Audi_graph = G.subgraph(selected_nodes)\n",
    "print(Audi_graph.nodes)"
   ]
  },
  {
   "cell_type": "code",
   "execution_count": 18,
   "metadata": {},
   "outputs": [
    {
     "data": {
      "image/png": "[encoded data removed]",
      "text/plain": [
       "<Figure size 432x288 with 1 Axes>"
      ]
     },
     "metadata": {
      "needs_background": "light"
     },
     "output_type": "display_data"
    }
   ],
   "source": [
    "# Look at the degree of nodes within a group (brand) relative to the degree of the nodes\n",
    "# connected to all nodes\n",
    "def degree_reduction(G,group='Audi'):\n",
    "    \n",
    "    sub_nodes = [n for n,v in G.nodes(data=True) if v['group'] == group]\n",
    "    brand_graph = G.subgraph(sub_nodes)\n",
    "    \n",
    "    brand_self = []\n",
    "    brand_all = []\n",
    "    brand_key = []\n",
    "    for k, d in G.degree:\n",
    "        if group in k:\n",
    "            brand_self.append(brand_graph.degree[k])\n",
    "            brand_all.append(G.degree[k])\n",
    "            brand_key.append(k)\n",
    "            \n",
    "    deg_ratio = np.array(brand_self)/np.array(brand_all)\n",
    "    return deg_ratio,brand_key\n",
    "\n",
    "fig, ax = plt.subplots()\n",
    "bins = np.linspace(0,1,20)\n",
    "for i in ['Audi','BMW','Ford']:\n",
    "    deg_ratio,brand_key = degree_reduction(G,group=i)\n",
    "    ax.hist(deg_ratio,bins=bins,alpha=0.4,density=True,label=i)\n",
    "\n",
    "ax.set_xlabel('Group Degree/All Degree')\n",
    "ax.set_ylabel('Density')\n",
    "ax.legend()\n",
    "plt.show(fig)\n",
    "plt.close(fig)"
   ]
  },
  {
   "cell_type": "markdown",
   "metadata": {},
   "source": [
    "## Additional notes\n",
    "\n",
    "You can make directed graphs, in these the connection onlly goes one way, so the edge could be P(A|B) one way, and P(B|A) the other. You must read in the pandas edgelist as an undirected graph first, then convert with `G.to_directed()`\n",
    "\n",
    "Many functions/algorithms are not defined for directed graphs, and the ones that are may not work on undirected graphs."
   ]
  },
  {
   "cell_type": "code",
   "execution_count": null,
   "metadata": {},
   "outputs": [],
   "source": []
  }
 ],
 "metadata": {
  "kernelspec": {
   "display_name": "Python 3",
   "language": "python",
   "name": "python3"
  },
  "language_info": {
   "codemirror_mode": {
    "name": "ipython",
    "version": 3
   },
   "file_extension": ".py",
   "mimetype": "text/x-python",
   "name": "python",
   "nbconvert_exporter": "python",
   "pygments_lexer": "ipython3",
   "version": "3.7.3"
  }
 },
 "nbformat": 4,
 "nbformat_minor": 2
}
